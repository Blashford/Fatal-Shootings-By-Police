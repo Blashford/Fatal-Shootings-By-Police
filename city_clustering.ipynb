{
 "metadata": {
  "language_info": {
   "codemirror_mode": {
    "name": "ipython",
    "version": 3
   },
   "file_extension": ".py",
   "mimetype": "text/x-python",
   "name": "python",
   "nbconvert_exporter": "python",
   "pygments_lexer": "ipython3",
   "version": "3.8.3-final"
  },
  "orig_nbformat": 2,
  "kernelspec": {
   "name": "python3",
   "display_name": "Python 3.8.3 64-bit ('base': conda)",
   "metadata": {
    "interpreter": {
     "hash": "a242da011f86214e2f930c3b276a2313eaa8a5fe99800bd628a72575b4d9a116"
    }
   }
  }
 },
 "nbformat": 4,
 "nbformat_minor": 2,
 "cells": [
  {
   "cell_type": "code",
   "execution_count": 31,
   "metadata": {},
   "outputs": [],
   "source": [
    "import pandas as pd\n",
    "import numpy as np\n",
    "from sklearn.cluster import KMeans\n",
    "from sklearn.preprocessing import LabelEncoder\n",
    "from sklearn.preprocessing import MinMaxScaler\n",
    "import seaborn as sns\n",
    "import matplotlib.pyplot as plt"
   ]
  },
  {
   "cell_type": "code",
   "execution_count": 59,
   "metadata": {},
   "outputs": [
    {
     "output_type": "execute_result",
     "data": {
      "text/plain": [
       "share_white              0\n",
       "share_black              0\n",
       "share_native_american    0\n",
       "share_asian              0\n",
       "share_hispanic           0\n",
       "dtype: int64"
      ]
     },
     "metadata": {},
     "execution_count": 59
    }
   ],
   "source": [
    "# Read in the data and reduce it to only city demographics\n",
    "cali_data = pd.read_csv(\"data/cali_combined.csv\")\n",
    "cali_data.rename(columns={\"Unnamed: 0\":\"city_id\"}, inplace=True)\n",
    "\n",
    "# Being lazy and just filling in NAs for race columnswith the mean of the data\n",
    "race_data = cali_data[['share_white', 'share_black',\n",
    "       'share_native_american', 'share_asian', 'share_hispanic']]\n",
    "race_data.fillna(race_data.mean(), inplace=True)\n",
    "race_data.isna().sum()"
   ]
  },
  {
   "cell_type": "code",
   "execution_count": 61,
   "metadata": {},
   "outputs": [
    {
     "output_type": "execute_result",
     "data": {
      "text/plain": [
       "   city_id  Median Income  percent_completed_hs  poverty_rate  majority\n",
       "0        0        81294.0                  87.0          13.2         4\n",
       "1        1        44797.0                  74.9          25.3         4\n",
       "2        2        43552.0                  52.4          20.0         3\n",
       "3        3        67364.0                  85.6          13.2         4\n",
       "4        4       105355.0                  92.3           6.1         2"
      ],
      "text/html": "<div>\n<style scoped>\n    .dataframe tbody tr th:only-of-type {\n        vertical-align: middle;\n    }\n\n    .dataframe tbody tr th {\n        vertical-align: top;\n    }\n\n    .dataframe thead th {\n        text-align: right;\n    }\n</style>\n<table border=\"1\" class=\"dataframe\">\n  <thead>\n    <tr style=\"text-align: right;\">\n      <th></th>\n      <th>city_id</th>\n      <th>Median Income</th>\n      <th>percent_completed_hs</th>\n      <th>poverty_rate</th>\n      <th>majority</th>\n    </tr>\n  </thead>\n  <tbody>\n    <tr>\n      <th>0</th>\n      <td>0</td>\n      <td>81294.0</td>\n      <td>87.0</td>\n      <td>13.2</td>\n      <td>4</td>\n    </tr>\n    <tr>\n      <th>1</th>\n      <td>1</td>\n      <td>44797.0</td>\n      <td>74.9</td>\n      <td>25.3</td>\n      <td>4</td>\n    </tr>\n    <tr>\n      <th>2</th>\n      <td>2</td>\n      <td>43552.0</td>\n      <td>52.4</td>\n      <td>20.0</td>\n      <td>3</td>\n    </tr>\n    <tr>\n      <th>3</th>\n      <td>3</td>\n      <td>67364.0</td>\n      <td>85.6</td>\n      <td>13.2</td>\n      <td>4</td>\n    </tr>\n    <tr>\n      <th>4</th>\n      <td>4</td>\n      <td>105355.0</td>\n      <td>92.3</td>\n      <td>6.1</td>\n      <td>2</td>\n    </tr>\n  </tbody>\n</table>\n</div>"
     },
     "metadata": {},
     "execution_count": 61
    }
   ],
   "source": [
    "# Simplify the race information\n",
    "majority = []\n",
    "# 0 = black\n",
    "# 1 = native american\n",
    "# 2 = asian\n",
    "# 3 = hispanic\n",
    "# 4 = white\n",
    "for index, row in race_data.iterrows():\n",
    "    if (row['share_black'] >= 50):\n",
    "        majority.append(0)\n",
    "    elif (row['share_native_american'] >= 50):\n",
    "        majority.append(1)\n",
    "    elif (row['share_asian'] >= 50):\n",
    "        majority.append(2)\n",
    "    elif (row['share_hispanic'] >= 50):\n",
    "        majority.append(3)\n",
    "    else:\n",
    "        majority.append(4)\n",
    "\n",
    "cities = cali_data[['city_id', 'Median Income',\n",
    "       'percent_completed_hs', 'poverty_rate']]\n",
    "cities[\"majority\"] = majority\n",
    "cities.head()"
   ]
  },
  {
   "cell_type": "code",
   "execution_count": 62,
   "metadata": {},
   "outputs": [
    {
     "output_type": "execute_result",
     "data": {
      "text/plain": [
       "city_id                 0\n",
       "Median Income           0\n",
       "percent_completed_hs    0\n",
       "poverty_rate            0\n",
       "majority                0\n",
       "dtype: int64"
      ]
     },
     "metadata": {},
     "execution_count": 62
    }
   ],
   "source": [
    "# Being lazy and just filling in NAs with the median of the data\n",
    "cities.fillna(cities.median(), inplace=True)\n",
    "cities.isna().sum()"
   ]
  },
  {
   "cell_type": "code",
   "execution_count": 64,
   "metadata": {},
   "outputs": [
    {
     "output_type": "execute_result",
     "data": {
      "text/plain": [
       "KMeans(n_clusters=3)"
      ]
     },
     "metadata": {},
     "execution_count": 64
    }
   ],
   "source": [
    "# Ok let's get into the ML part...\n",
    "data = np.array(cities)\n",
    "kmeans = KMeans(n_clusters=3)\n",
    "kmeans.fit(data)"
   ]
  },
  {
   "cell_type": "code",
   "execution_count": null,
   "metadata": {},
   "outputs": [],
   "source": []
  }
 ]
}